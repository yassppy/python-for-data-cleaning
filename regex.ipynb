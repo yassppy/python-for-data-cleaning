{
 "cells": [
  {
   "cell_type": "markdown",
   "id": "d3dfdc82",
   "metadata": {},
   "source": [
    "## ¿Qué son las expresiones regulares?"
   ]
  },
  {
   "cell_type": "markdown",
   "id": "3cea105a",
   "metadata": {},
   "source": [
    "Es una forma de buscar palabras o patrones dentro de un determinado texto."
   ]
  },
  {
   "cell_type": "code",
   "execution_count": 2,
   "id": "88e3dc70",
   "metadata": {},
   "outputs": [],
   "source": [
    "import re"
   ]
  },
  {
   "cell_type": "code",
   "execution_count": 20,
   "id": "36e20aec",
   "metadata": {},
   "outputs": [],
   "source": [
    "text = \"\"\"\n",
    "Hola, mi nombre es Laura Gómez, puedes escribirme a lauragomez@example.com\n",
    " o llamarme al +34 678 123 456.\n",
    "\n",
    "También está Carlos Ruiz, su correo es carlosruiz95@gmail.com\n",
    " y su número es +34 612 987 321.\n",
    "\n",
    "María López usa el correo maria.lopez23@outlook.es\n",
    " y su teléfono es +34 699 555 222.\n",
    "\n",
    "Por último, Andrés Torres tiene el correo atorres@empresa.org\n",
    " y su número personal es +34 611 333 444.\n",
    "\"\"\""
   ]
  },
  {
   "cell_type": "markdown",
   "id": "97348e4c",
   "metadata": {},
   "source": [
    "- Se te pide extraer los email."
   ]
  },
  {
   "cell_type": "code",
   "execution_count": 33,
   "id": "f439c839",
   "metadata": {},
   "outputs": [
    {
     "data": {
      "text/plain": [
       "['lauragomez@example.com',\n",
       " 'carlosruiz95@gmail.com',\n",
       " 'maria.lopez23@outlook.es',\n",
       " 'atorres@empresa.org']"
      ]
     },
     "execution_count": 33,
     "metadata": {},
     "output_type": "execute_result"
    }
   ],
   "source": [
    "re.findall(r\"[\\w\\.-]+@[\\w\\.-]+\\.\\w+\", text)"
   ]
  },
  {
   "cell_type": "code",
   "execution_count": 39,
   "id": "f10ff84e",
   "metadata": {},
   "outputs": [
    {
     "data": {
      "text/plain": [
       "['+34 678 123 456', '+34 612 987 321', '+34 699 555 222', '+34 611 333 444']"
      ]
     },
     "execution_count": 39,
     "metadata": {},
     "output_type": "execute_result"
    }
   ],
   "source": [
    "re.findall(r\"\\+\\d{2}\\s\\d{3}\\s\\d{3}\\s\\d{3}\", text)"
   ]
  },
  {
   "cell_type": "markdown",
   "id": "61c00d22",
   "metadata": {},
   "source": [
    "| Patrón      | Significa                                     | Ejemplo que encuentra          |\n",
    "| ----------- | --------------------------------------------- | ------------------------------ |\n",
    "| `.`         | Cualquier **carácter** excepto salto de línea | `c.t` → `cat`, `cot`, `c9t`    |\n",
    "| `\\.`        | Punto **literal** (escapado)                  | `www\\.example` → `www.example` |\n",
    "| `\\d{3}`     | 3 dígitos                                     | `123`                          |\n",
    "| `\\d+`       | uno o más dígitos                             | `45`, `7890`                   |\n",
    "| `\\w+`       | una palabra (letras, números o `_`)           | `Hola`, `mundo`, `123`         |\n",
    "| `[A-Za-z]+` | solo letras                                   | `Hola`, `mundo`                |\n",
    "| `\\s+`       | espacios (espacio, tab, salto de línea)       | `\" \"`, `\"\\t\"`                  |\n"
   ]
  },
  {
   "cell_type": "code",
   "execution_count": null,
   "id": "9cfc890e",
   "metadata": {},
   "outputs": [],
   "source": []
  }
 ],
 "metadata": {
  "kernelspec": {
   "display_name": "Python 3",
   "language": "python",
   "name": "python3"
  },
  "language_info": {
   "codemirror_mode": {
    "name": "ipython",
    "version": 3
   },
   "file_extension": ".py",
   "mimetype": "text/x-python",
   "name": "python",
   "nbconvert_exporter": "python",
   "pygments_lexer": "ipython3",
   "version": "3.12.1"
  }
 },
 "nbformat": 4,
 "nbformat_minor": 5
}
