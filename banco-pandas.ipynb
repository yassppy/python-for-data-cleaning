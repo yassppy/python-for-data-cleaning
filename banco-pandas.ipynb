{
 "cells": [
  {
   "cell_type": "markdown",
   "id": "cf21f599",
   "metadata": {},
   "source": [
    "## Limpieza de datos con Pandas"
   ]
  },
  {
   "cell_type": "markdown",
   "id": "5b5fe78f",
   "metadata": {},
   "source": [
    "- Establecer los paquetes a utilizar."
   ]
  },
  {
   "cell_type": "code",
   "execution_count": 1,
   "id": "a510b880",
   "metadata": {},
   "outputs": [],
   "source": [
    "import pandas as pd"
   ]
  },
  {
   "cell_type": "code",
   "execution_count": 2,
   "id": "1a762107",
   "metadata": {},
   "outputs": [],
   "source": [
    "df = pd.read_csv(\"./assets/datos_banco_clientes.csv\")"
   ]
  },
  {
   "cell_type": "code",
   "execution_count": 3,
   "id": "7247ca6b",
   "metadata": {},
   "outputs": [
    {
     "data": {
      "text/html": [
       "<div>\n",
       "<style scoped>\n",
       "    .dataframe tbody tr th:only-of-type {\n",
       "        vertical-align: middle;\n",
       "    }\n",
       "\n",
       "    .dataframe tbody tr th {\n",
       "        vertical-align: top;\n",
       "    }\n",
       "\n",
       "    .dataframe thead th {\n",
       "        text-align: right;\n",
       "    }\n",
       "</style>\n",
       "<table border=\"1\" class=\"dataframe\">\n",
       "  <thead>\n",
       "    <tr style=\"text-align: right;\">\n",
       "      <th></th>\n",
       "      <th>id_cliente</th>\n",
       "      <th>edad</th>\n",
       "      <th>genero</th>\n",
       "      <th>ingresos_mensuales</th>\n",
       "      <th>saldo_promedio</th>\n",
       "      <th>tipo_pago</th>\n",
       "      <th>puntaje_crediticio</th>\n",
       "      <th>mora</th>\n",
       "      <th>segmento</th>\n",
       "      <th>fecha_registro</th>\n",
       "    </tr>\n",
       "  </thead>\n",
       "  <tbody>\n",
       "    <tr>\n",
       "      <th>0</th>\n",
       "      <td>1</td>\n",
       "      <td>56</td>\n",
       "      <td>F</td>\n",
       "      <td>1455.94</td>\n",
       "      <td>1027.82</td>\n",
       "      <td>NaN</td>\n",
       "      <td>315.0</td>\n",
       "      <td>0</td>\n",
       "      <td>Clásico</td>\n",
       "      <td>2022-11-15</td>\n",
       "    </tr>\n",
       "    <tr>\n",
       "      <th>1</th>\n",
       "      <td>2</td>\n",
       "      <td>69</td>\n",
       "      <td>M</td>\n",
       "      <td>3433.34</td>\n",
       "      <td>7557.63</td>\n",
       "      <td>NaN</td>\n",
       "      <td>428.0</td>\n",
       "      <td>0</td>\n",
       "      <td>Clásico</td>\n",
       "      <td>2020-03-25</td>\n",
       "    </tr>\n",
       "    <tr>\n",
       "      <th>2</th>\n",
       "      <td>3</td>\n",
       "      <td>46</td>\n",
       "      <td>M</td>\n",
       "      <td>3960.88</td>\n",
       "      <td>8461.54</td>\n",
       "      <td>NaN</td>\n",
       "      <td>408.0</td>\n",
       "      <td>0</td>\n",
       "      <td>Premium</td>\n",
       "      <td>2022-01-29</td>\n",
       "    </tr>\n",
       "    <tr>\n",
       "      <th>3</th>\n",
       "      <td>4</td>\n",
       "      <td>32</td>\n",
       "      <td>F</td>\n",
       "      <td>3460.77</td>\n",
       "      <td>4094.61</td>\n",
       "      <td>tarjeta crédito</td>\n",
       "      <td>832.0</td>\n",
       "      <td>0</td>\n",
       "      <td>Empresarial</td>\n",
       "      <td>2021-06-07</td>\n",
       "    </tr>\n",
       "    <tr>\n",
       "      <th>4</th>\n",
       "      <td>5</td>\n",
       "      <td>60</td>\n",
       "      <td>M</td>\n",
       "      <td>1019.07</td>\n",
       "      <td>2932.03</td>\n",
       "      <td>efectivo</td>\n",
       "      <td>568.0</td>\n",
       "      <td>0</td>\n",
       "      <td>Clásico</td>\n",
       "      <td>2019-11-21</td>\n",
       "    </tr>\n",
       "  </tbody>\n",
       "</table>\n",
       "</div>"
      ],
      "text/plain": [
       "   id_cliente  edad genero  ingresos_mensuales  saldo_promedio  \\\n",
       "0           1    56      F             1455.94         1027.82   \n",
       "1           2    69      M             3433.34         7557.63   \n",
       "2           3    46      M             3960.88         8461.54   \n",
       "3           4    32      F             3460.77         4094.61   \n",
       "4           5    60      M             1019.07         2932.03   \n",
       "\n",
       "         tipo_pago  puntaje_crediticio  mora     segmento fecha_registro  \n",
       "0              NaN               315.0     0      Clásico     2022-11-15  \n",
       "1              NaN               428.0     0      Clásico     2020-03-25  \n",
       "2              NaN               408.0     0      Premium     2022-01-29  \n",
       "3  tarjeta crédito               832.0     0  Empresarial     2021-06-07  \n",
       "4         efectivo               568.0     0      Clásico     2019-11-21  "
      ]
     },
     "execution_count": 3,
     "metadata": {},
     "output_type": "execute_result"
    }
   ],
   "source": [
    "df.head(5)"
   ]
  },
  {
   "cell_type": "markdown",
   "id": "f57226f2",
   "metadata": {},
   "source": [
    "- Verificamos si cuenta con nulos."
   ]
  },
  {
   "cell_type": "code",
   "execution_count": 5,
   "id": "b38cd03d",
   "metadata": {},
   "outputs": [
    {
     "name": "stdout",
     "output_type": "stream",
     "text": [
      "<class 'pandas.core.frame.DataFrame'>\n",
      "RangeIndex: 500 entries, 0 to 499\n",
      "Data columns (total 10 columns):\n",
      " #   Column              Non-Null Count  Dtype  \n",
      "---  ------              --------------  -----  \n",
      " 0   id_cliente          500 non-null    int64  \n",
      " 1   edad                500 non-null    int64  \n",
      " 2   genero              500 non-null    object \n",
      " 3   ingresos_mensuales  450 non-null    float64\n",
      " 4   saldo_promedio      500 non-null    float64\n",
      " 5   tipo_pago           450 non-null    object \n",
      " 6   puntaje_crediticio  450 non-null    float64\n",
      " 7   mora                500 non-null    int64  \n",
      " 8   segmento            500 non-null    object \n",
      " 9   fecha_registro      500 non-null    object \n",
      "dtypes: float64(3), int64(3), object(4)\n",
      "memory usage: 39.2+ KB\n"
     ]
    }
   ],
   "source": [
    "df.info()"
   ]
  },
  {
   "cell_type": "code",
   "execution_count": 6,
   "id": "3edf1fb9",
   "metadata": {},
   "outputs": [
    {
     "data": {
      "text/plain": [
       "id_cliente             0\n",
       "edad                   0\n",
       "genero                 0\n",
       "ingresos_mensuales    50\n",
       "saldo_promedio         0\n",
       "tipo_pago             50\n",
       "puntaje_crediticio    50\n",
       "mora                   0\n",
       "segmento               0\n",
       "fecha_registro         0\n",
       "dtype: int64"
      ]
     },
     "execution_count": 6,
     "metadata": {},
     "output_type": "execute_result"
    }
   ],
   "source": [
    "df.isnull().sum()"
   ]
  },
  {
   "cell_type": "markdown",
   "id": "96fed476",
   "metadata": {},
   "source": [
    "- Se va a transformar el tipo de dato de la columna fecha_registro."
   ]
  },
  {
   "cell_type": "code",
   "execution_count": 7,
   "id": "ee22bbdf",
   "metadata": {},
   "outputs": [],
   "source": [
    "df_copy = df"
   ]
  },
  {
   "cell_type": "code",
   "execution_count": 8,
   "id": "3d637ea8",
   "metadata": {},
   "outputs": [],
   "source": [
    "df_copy[\"fecha_registro\"] = pd.to_datetime(df_copy[\"fecha_registro\"])"
   ]
  },
  {
   "cell_type": "code",
   "execution_count": 9,
   "id": "a276849f",
   "metadata": {},
   "outputs": [
    {
     "name": "stdout",
     "output_type": "stream",
     "text": [
      "<class 'pandas.core.frame.DataFrame'>\n",
      "RangeIndex: 500 entries, 0 to 499\n",
      "Data columns (total 10 columns):\n",
      " #   Column              Non-Null Count  Dtype         \n",
      "---  ------              --------------  -----         \n",
      " 0   id_cliente          500 non-null    int64         \n",
      " 1   edad                500 non-null    int64         \n",
      " 2   genero              500 non-null    object        \n",
      " 3   ingresos_mensuales  450 non-null    float64       \n",
      " 4   saldo_promedio      500 non-null    float64       \n",
      " 5   tipo_pago           450 non-null    object        \n",
      " 6   puntaje_crediticio  450 non-null    float64       \n",
      " 7   mora                500 non-null    int64         \n",
      " 8   segmento            500 non-null    object        \n",
      " 9   fecha_registro      500 non-null    datetime64[ns]\n",
      "dtypes: datetime64[ns](1), float64(3), int64(3), object(3)\n",
      "memory usage: 39.2+ KB\n"
     ]
    }
   ],
   "source": [
    "df_copy.info()"
   ]
  },
  {
   "cell_type": "markdown",
   "id": "03dd8fb9",
   "metadata": {},
   "source": [
    "- Como los valores faltantes son menores, entonces lo vamos a reemplazar por la media."
   ]
  },
  {
   "cell_type": "code",
   "execution_count": 10,
   "id": "61ef140f",
   "metadata": {},
   "outputs": [
    {
     "data": {
      "text/html": [
       "<div>\n",
       "<style scoped>\n",
       "    .dataframe tbody tr th:only-of-type {\n",
       "        vertical-align: middle;\n",
       "    }\n",
       "\n",
       "    .dataframe tbody tr th {\n",
       "        vertical-align: top;\n",
       "    }\n",
       "\n",
       "    .dataframe thead th {\n",
       "        text-align: right;\n",
       "    }\n",
       "</style>\n",
       "<table border=\"1\" class=\"dataframe\">\n",
       "  <thead>\n",
       "    <tr style=\"text-align: right;\">\n",
       "      <th></th>\n",
       "      <th>id_cliente</th>\n",
       "      <th>edad</th>\n",
       "      <th>ingresos_mensuales</th>\n",
       "      <th>saldo_promedio</th>\n",
       "      <th>puntaje_crediticio</th>\n",
       "      <th>mora</th>\n",
       "      <th>fecha_registro</th>\n",
       "    </tr>\n",
       "  </thead>\n",
       "  <tbody>\n",
       "    <tr>\n",
       "      <th>count</th>\n",
       "      <td>500.000000</td>\n",
       "      <td>500.000000</td>\n",
       "      <td>450.000000</td>\n",
       "      <td>500.000000</td>\n",
       "      <td>450.000000</td>\n",
       "      <td>500.000000</td>\n",
       "      <td>500</td>\n",
       "    </tr>\n",
       "    <tr>\n",
       "      <th>mean</th>\n",
       "      <td>250.500000</td>\n",
       "      <td>44.220000</td>\n",
       "      <td>3526.241489</td>\n",
       "      <td>6171.943960</td>\n",
       "      <td>585.964444</td>\n",
       "      <td>0.192000</td>\n",
       "      <td>2020-09-26 16:24:57.600000</td>\n",
       "    </tr>\n",
       "    <tr>\n",
       "      <th>min</th>\n",
       "      <td>1.000000</td>\n",
       "      <td>18.000000</td>\n",
       "      <td>263.740000</td>\n",
       "      <td>562.840000</td>\n",
       "      <td>300.000000</td>\n",
       "      <td>0.000000</td>\n",
       "      <td>2018-01-06 00:00:00</td>\n",
       "    </tr>\n",
       "    <tr>\n",
       "      <th>25%</th>\n",
       "      <td>125.750000</td>\n",
       "      <td>32.000000</td>\n",
       "      <td>2748.285000</td>\n",
       "      <td>3398.712500</td>\n",
       "      <td>446.250000</td>\n",
       "      <td>0.000000</td>\n",
       "      <td>2019-06-01 06:00:00</td>\n",
       "    </tr>\n",
       "    <tr>\n",
       "      <th>50%</th>\n",
       "      <td>250.500000</td>\n",
       "      <td>45.000000</td>\n",
       "      <td>3465.910000</td>\n",
       "      <td>5528.825000</td>\n",
       "      <td>589.000000</td>\n",
       "      <td>0.000000</td>\n",
       "      <td>2020-10-08 00:00:00</td>\n",
       "    </tr>\n",
       "    <tr>\n",
       "      <th>75%</th>\n",
       "      <td>375.250000</td>\n",
       "      <td>57.000000</td>\n",
       "      <td>4264.612500</td>\n",
       "      <td>8472.165000</td>\n",
       "      <td>723.000000</td>\n",
       "      <td>0.000000</td>\n",
       "      <td>2022-01-07 00:00:00</td>\n",
       "    </tr>\n",
       "    <tr>\n",
       "      <th>max</th>\n",
       "      <td>500.000000</td>\n",
       "      <td>69.000000</td>\n",
       "      <td>7194.660000</td>\n",
       "      <td>17107.230000</td>\n",
       "      <td>850.000000</td>\n",
       "      <td>1.000000</td>\n",
       "      <td>2023-06-24 00:00:00</td>\n",
       "    </tr>\n",
       "    <tr>\n",
       "      <th>std</th>\n",
       "      <td>144.481833</td>\n",
       "      <td>15.036082</td>\n",
       "      <td>1192.918786</td>\n",
       "      <td>3452.303927</td>\n",
       "      <td>157.969715</td>\n",
       "      <td>0.394268</td>\n",
       "      <td>NaN</td>\n",
       "    </tr>\n",
       "  </tbody>\n",
       "</table>\n",
       "</div>"
      ],
      "text/plain": [
       "       id_cliente        edad  ingresos_mensuales  saldo_promedio  \\\n",
       "count  500.000000  500.000000          450.000000      500.000000   \n",
       "mean   250.500000   44.220000         3526.241489     6171.943960   \n",
       "min      1.000000   18.000000          263.740000      562.840000   \n",
       "25%    125.750000   32.000000         2748.285000     3398.712500   \n",
       "50%    250.500000   45.000000         3465.910000     5528.825000   \n",
       "75%    375.250000   57.000000         4264.612500     8472.165000   \n",
       "max    500.000000   69.000000         7194.660000    17107.230000   \n",
       "std    144.481833   15.036082         1192.918786     3452.303927   \n",
       "\n",
       "       puntaje_crediticio        mora              fecha_registro  \n",
       "count          450.000000  500.000000                         500  \n",
       "mean           585.964444    0.192000  2020-09-26 16:24:57.600000  \n",
       "min            300.000000    0.000000         2018-01-06 00:00:00  \n",
       "25%            446.250000    0.000000         2019-06-01 06:00:00  \n",
       "50%            589.000000    0.000000         2020-10-08 00:00:00  \n",
       "75%            723.000000    0.000000         2022-01-07 00:00:00  \n",
       "max            850.000000    1.000000         2023-06-24 00:00:00  \n",
       "std            157.969715    0.394268                         NaN  "
      ]
     },
     "execution_count": 10,
     "metadata": {},
     "output_type": "execute_result"
    }
   ],
   "source": [
    "df_copy.describe()"
   ]
  },
  {
   "cell_type": "code",
   "execution_count": 13,
   "id": "78c63efb",
   "metadata": {},
   "outputs": [],
   "source": [
    "average_monthly_income = round(df_copy[\"ingresos_mensuales\"].mean(), 2)\n",
    "payment_type = df_copy[\"tipo_pago\"].mode()[0]\n",
    "average_credit_score = round(df_copy[\"puntaje_crediticio\"].mean(), 2)\n",
    "\n",
    "df_copy[\"ingresos_mensuales\"] = df_copy[\"ingresos_mensuales\"].fillna(average_monthly_income)\n",
    "df_copy[\"tipo_pago\"] = df_copy[\"tipo_pago\"].fillna(payment_type)\n",
    "df_copy[\"puntaje_crediticio\"] = df_copy[\"puntaje_crediticio\"].fillna(average_credit_score)"
   ]
  },
  {
   "cell_type": "code",
   "execution_count": 14,
   "id": "7e3a1ac6",
   "metadata": {},
   "outputs": [
    {
     "name": "stdout",
     "output_type": "stream",
     "text": [
      "<class 'pandas.core.frame.DataFrame'>\n",
      "RangeIndex: 500 entries, 0 to 499\n",
      "Data columns (total 10 columns):\n",
      " #   Column              Non-Null Count  Dtype         \n",
      "---  ------              --------------  -----         \n",
      " 0   id_cliente          500 non-null    int64         \n",
      " 1   edad                500 non-null    int64         \n",
      " 2   genero              500 non-null    object        \n",
      " 3   ingresos_mensuales  500 non-null    float64       \n",
      " 4   saldo_promedio      500 non-null    float64       \n",
      " 5   tipo_pago           500 non-null    object        \n",
      " 6   puntaje_crediticio  500 non-null    float64       \n",
      " 7   mora                500 non-null    int64         \n",
      " 8   segmento            500 non-null    object        \n",
      " 9   fecha_registro      500 non-null    datetime64[ns]\n",
      "dtypes: datetime64[ns](1), float64(3), int64(3), object(3)\n",
      "memory usage: 39.2+ KB\n"
     ]
    }
   ],
   "source": [
    "df_copy.info()"
   ]
  },
  {
   "cell_type": "code",
   "execution_count": 15,
   "id": "4b292b77",
   "metadata": {},
   "outputs": [
    {
     "data": {
      "text/html": [
       "<div>\n",
       "<style scoped>\n",
       "    .dataframe tbody tr th:only-of-type {\n",
       "        vertical-align: middle;\n",
       "    }\n",
       "\n",
       "    .dataframe tbody tr th {\n",
       "        vertical-align: top;\n",
       "    }\n",
       "\n",
       "    .dataframe thead th {\n",
       "        text-align: right;\n",
       "    }\n",
       "</style>\n",
       "<table border=\"1\" class=\"dataframe\">\n",
       "  <thead>\n",
       "    <tr style=\"text-align: right;\">\n",
       "      <th></th>\n",
       "      <th>id_cliente</th>\n",
       "      <th>edad</th>\n",
       "      <th>genero</th>\n",
       "      <th>ingresos_mensuales</th>\n",
       "      <th>saldo_promedio</th>\n",
       "      <th>tipo_pago</th>\n",
       "      <th>puntaje_crediticio</th>\n",
       "      <th>mora</th>\n",
       "      <th>segmento</th>\n",
       "      <th>fecha_registro</th>\n",
       "    </tr>\n",
       "  </thead>\n",
       "  <tbody>\n",
       "    <tr>\n",
       "      <th>0</th>\n",
       "      <td>1</td>\n",
       "      <td>56</td>\n",
       "      <td>F</td>\n",
       "      <td>1455.94</td>\n",
       "      <td>1027.82</td>\n",
       "      <td>Yape</td>\n",
       "      <td>315.0</td>\n",
       "      <td>0</td>\n",
       "      <td>Clásico</td>\n",
       "      <td>2022-11-15</td>\n",
       "    </tr>\n",
       "    <tr>\n",
       "      <th>1</th>\n",
       "      <td>2</td>\n",
       "      <td>69</td>\n",
       "      <td>M</td>\n",
       "      <td>3433.34</td>\n",
       "      <td>7557.63</td>\n",
       "      <td>Yape</td>\n",
       "      <td>428.0</td>\n",
       "      <td>0</td>\n",
       "      <td>Clásico</td>\n",
       "      <td>2020-03-25</td>\n",
       "    </tr>\n",
       "    <tr>\n",
       "      <th>2</th>\n",
       "      <td>3</td>\n",
       "      <td>46</td>\n",
       "      <td>M</td>\n",
       "      <td>3960.88</td>\n",
       "      <td>8461.54</td>\n",
       "      <td>Yape</td>\n",
       "      <td>408.0</td>\n",
       "      <td>0</td>\n",
       "      <td>Premium</td>\n",
       "      <td>2022-01-29</td>\n",
       "    </tr>\n",
       "    <tr>\n",
       "      <th>3</th>\n",
       "      <td>4</td>\n",
       "      <td>32</td>\n",
       "      <td>F</td>\n",
       "      <td>3460.77</td>\n",
       "      <td>4094.61</td>\n",
       "      <td>tarjeta crédito</td>\n",
       "      <td>832.0</td>\n",
       "      <td>0</td>\n",
       "      <td>Empresarial</td>\n",
       "      <td>2021-06-07</td>\n",
       "    </tr>\n",
       "    <tr>\n",
       "      <th>4</th>\n",
       "      <td>5</td>\n",
       "      <td>60</td>\n",
       "      <td>M</td>\n",
       "      <td>1019.07</td>\n",
       "      <td>2932.03</td>\n",
       "      <td>efectivo</td>\n",
       "      <td>568.0</td>\n",
       "      <td>0</td>\n",
       "      <td>Clásico</td>\n",
       "      <td>2019-11-21</td>\n",
       "    </tr>\n",
       "  </tbody>\n",
       "</table>\n",
       "</div>"
      ],
      "text/plain": [
       "   id_cliente  edad genero  ingresos_mensuales  saldo_promedio  \\\n",
       "0           1    56      F             1455.94         1027.82   \n",
       "1           2    69      M             3433.34         7557.63   \n",
       "2           3    46      M             3960.88         8461.54   \n",
       "3           4    32      F             3460.77         4094.61   \n",
       "4           5    60      M             1019.07         2932.03   \n",
       "\n",
       "         tipo_pago  puntaje_crediticio  mora     segmento fecha_registro  \n",
       "0             Yape               315.0     0      Clásico     2022-11-15  \n",
       "1             Yape               428.0     0      Clásico     2020-03-25  \n",
       "2             Yape               408.0     0      Premium     2022-01-29  \n",
       "3  tarjeta crédito               832.0     0  Empresarial     2021-06-07  \n",
       "4         efectivo               568.0     0      Clásico     2019-11-21  "
      ]
     },
     "execution_count": 15,
     "metadata": {},
     "output_type": "execute_result"
    }
   ],
   "source": [
    "df_copy.head()"
   ]
  },
  {
   "cell_type": "markdown",
   "id": "604e0fa7",
   "metadata": {},
   "source": [
    "- ¿Cuántos clientes tienen menos de 30 años?"
   ]
  },
  {
   "cell_type": "code",
   "execution_count": 24,
   "id": "55afe89b",
   "metadata": {},
   "outputs": [
    {
     "data": {
      "text/plain": [
       "107"
      ]
     },
     "execution_count": 24,
     "metadata": {},
     "output_type": "execute_result"
    }
   ],
   "source": [
    "df_copy[df_copy[\"edad\"]<30].shape[0]"
   ]
  },
  {
   "cell_type": "markdown",
   "id": "926ea24d",
   "metadata": {},
   "source": [
    "- Eliminar la columna mora."
   ]
  },
  {
   "cell_type": "code",
   "execution_count": 25,
   "id": "ba3a2457",
   "metadata": {},
   "outputs": [],
   "source": [
    "df_copy.drop(columns=[\"mora\"], inplace=True)"
   ]
  },
  {
   "cell_type": "code",
   "execution_count": 27,
   "id": "16226057",
   "metadata": {},
   "outputs": [
    {
     "data": {
      "text/plain": [
       "Index(['id_cliente', 'edad', 'genero', 'ingresos_mensuales', 'saldo_promedio',\n",
       "       'tipo_pago', 'puntaje_crediticio', 'segmento', 'fecha_registro'],\n",
       "      dtype='object')"
      ]
     },
     "execution_count": 27,
     "metadata": {},
     "output_type": "execute_result"
    }
   ],
   "source": [
    "df_copy.columns"
   ]
  },
  {
   "cell_type": "markdown",
   "id": "df6a1a69",
   "metadata": {},
   "source": [
    "- Mostrar los 5 clientes con mayores ingresos mensuales."
   ]
  },
  {
   "cell_type": "code",
   "execution_count": 28,
   "id": "09a40af6",
   "metadata": {},
   "outputs": [
    {
     "data": {
      "text/html": [
       "<div>\n",
       "<style scoped>\n",
       "    .dataframe tbody tr th:only-of-type {\n",
       "        vertical-align: middle;\n",
       "    }\n",
       "\n",
       "    .dataframe tbody tr th {\n",
       "        vertical-align: top;\n",
       "    }\n",
       "\n",
       "    .dataframe thead th {\n",
       "        text-align: right;\n",
       "    }\n",
       "</style>\n",
       "<table border=\"1\" class=\"dataframe\">\n",
       "  <thead>\n",
       "    <tr style=\"text-align: right;\">\n",
       "      <th></th>\n",
       "      <th>id_cliente</th>\n",
       "      <th>edad</th>\n",
       "      <th>genero</th>\n",
       "      <th>ingresos_mensuales</th>\n",
       "      <th>saldo_promedio</th>\n",
       "      <th>tipo_pago</th>\n",
       "      <th>puntaje_crediticio</th>\n",
       "      <th>segmento</th>\n",
       "      <th>fecha_registro</th>\n",
       "    </tr>\n",
       "  </thead>\n",
       "  <tbody>\n",
       "    <tr>\n",
       "      <th>40</th>\n",
       "      <td>41</td>\n",
       "      <td>20</td>\n",
       "      <td>M</td>\n",
       "      <td>7194.66</td>\n",
       "      <td>7204.10</td>\n",
       "      <td>Plin</td>\n",
       "      <td>613.00</td>\n",
       "      <td>Clásico</td>\n",
       "      <td>2021-07-16</td>\n",
       "    </tr>\n",
       "    <tr>\n",
       "      <th>317</th>\n",
       "      <td>318</td>\n",
       "      <td>55</td>\n",
       "      <td>M</td>\n",
       "      <td>6658.86</td>\n",
       "      <td>7867.84</td>\n",
       "      <td>efectivo</td>\n",
       "      <td>668.00</td>\n",
       "      <td>Clásico</td>\n",
       "      <td>2019-06-08</td>\n",
       "    </tr>\n",
       "    <tr>\n",
       "      <th>216</th>\n",
       "      <td>217</td>\n",
       "      <td>66</td>\n",
       "      <td>F</td>\n",
       "      <td>6588.03</td>\n",
       "      <td>11345.35</td>\n",
       "      <td>tarjeta crédito</td>\n",
       "      <td>585.96</td>\n",
       "      <td>Premium</td>\n",
       "      <td>2023-05-18</td>\n",
       "    </tr>\n",
       "    <tr>\n",
       "      <th>324</th>\n",
       "      <td>325</td>\n",
       "      <td>42</td>\n",
       "      <td>M</td>\n",
       "      <td>6572.10</td>\n",
       "      <td>14935.86</td>\n",
       "      <td>Plin</td>\n",
       "      <td>367.00</td>\n",
       "      <td>Clásico</td>\n",
       "      <td>2021-01-21</td>\n",
       "    </tr>\n",
       "    <tr>\n",
       "      <th>442</th>\n",
       "      <td>443</td>\n",
       "      <td>45</td>\n",
       "      <td>F</td>\n",
       "      <td>6532.32</td>\n",
       "      <td>9749.19</td>\n",
       "      <td>Yape</td>\n",
       "      <td>589.00</td>\n",
       "      <td>Premium</td>\n",
       "      <td>2019-01-26</td>\n",
       "    </tr>\n",
       "  </tbody>\n",
       "</table>\n",
       "</div>"
      ],
      "text/plain": [
       "     id_cliente  edad genero  ingresos_mensuales  saldo_promedio  \\\n",
       "40           41    20      M             7194.66         7204.10   \n",
       "317         318    55      M             6658.86         7867.84   \n",
       "216         217    66      F             6588.03        11345.35   \n",
       "324         325    42      M             6572.10        14935.86   \n",
       "442         443    45      F             6532.32         9749.19   \n",
       "\n",
       "           tipo_pago  puntaje_crediticio segmento fecha_registro  \n",
       "40              Plin              613.00  Clásico     2021-07-16  \n",
       "317         efectivo              668.00  Clásico     2019-06-08  \n",
       "216  tarjeta crédito              585.96  Premium     2023-05-18  \n",
       "324             Plin              367.00  Clásico     2021-01-21  \n",
       "442             Yape              589.00  Premium     2019-01-26  "
      ]
     },
     "execution_count": 28,
     "metadata": {},
     "output_type": "execute_result"
    }
   ],
   "source": [
    "df_copy.sort_values(by=\"ingresos_mensuales\", ascending=False).head(5)"
   ]
  },
  {
   "cell_type": "markdown",
   "id": "78575332",
   "metadata": {},
   "source": [
    "- ¿Cuál es el ingreso promedio por tipo de pago?"
   ]
  },
  {
   "cell_type": "code",
   "execution_count": 31,
   "id": "5cdbd7f3",
   "metadata": {},
   "outputs": [
    {
     "data": {
      "text/plain": [
       "tipo_pago\n",
       "Plin               3566.25\n",
       "Yape               3472.70\n",
       "efectivo           3631.06\n",
       "tarjeta crédito    3480.03\n",
       "transferencia      3529.08\n",
       "Name: ingresos_mensuales, dtype: float64"
      ]
     },
     "execution_count": 31,
     "metadata": {},
     "output_type": "execute_result"
    }
   ],
   "source": [
    "round(df_copy.groupby(\"tipo_pago\")[\"ingresos_mensuales\"].mean(), 2)"
   ]
  },
  {
   "cell_type": "markdown",
   "id": "7ae55b58",
   "metadata": {},
   "source": [
    "- ¿Cuantos clientes hay por el tipo de segmento?"
   ]
  },
  {
   "cell_type": "code",
   "execution_count": 32,
   "id": "fc94a359",
   "metadata": {},
   "outputs": [
    {
     "data": {
      "text/plain": [
       "segmento\n",
       "Clásico        297\n",
       "Premium        167\n",
       "Empresarial     36\n",
       "Name: count, dtype: int64"
      ]
     },
     "execution_count": 32,
     "metadata": {},
     "output_type": "execute_result"
    }
   ],
   "source": [
    "df_copy[\"segmento\"].value_counts()"
   ]
  },
  {
   "cell_type": "markdown",
   "id": "5973d7f7",
   "metadata": {},
   "source": [
    "- Verificar si estan bien escritos los datos categóricos."
   ]
  },
  {
   "cell_type": "code",
   "execution_count": 34,
   "id": "b1ab74c1",
   "metadata": {},
   "outputs": [
    {
     "data": {
      "text/plain": [
       "['genero', 'tipo_pago', 'segmento']"
      ]
     },
     "execution_count": 34,
     "metadata": {},
     "output_type": "execute_result"
    }
   ],
   "source": [
    "df_copy.select_dtypes(include=\"object\").columns.tolist()"
   ]
  },
  {
   "cell_type": "code",
   "execution_count": 35,
   "id": "34271d07",
   "metadata": {},
   "outputs": [
    {
     "data": {
      "text/plain": [
       "array(['F', 'M'], dtype=object)"
      ]
     },
     "execution_count": 35,
     "metadata": {},
     "output_type": "execute_result"
    }
   ],
   "source": [
    "df_copy[\"genero\"].unique()"
   ]
  },
  {
   "cell_type": "code",
   "execution_count": 36,
   "id": "9d5b6841",
   "metadata": {},
   "outputs": [
    {
     "data": {
      "text/plain": [
       "array(['Yape', 'tarjeta crédito', 'efectivo', 'Plin', 'transferencia'],\n",
       "      dtype=object)"
      ]
     },
     "execution_count": 36,
     "metadata": {},
     "output_type": "execute_result"
    }
   ],
   "source": [
    "df_copy[\"tipo_pago\"].unique()"
   ]
  },
  {
   "cell_type": "code",
   "execution_count": 37,
   "id": "12dc1e4e",
   "metadata": {},
   "outputs": [
    {
     "data": {
      "text/plain": [
       "array(['Clásico', 'Premium', 'Empresarial'], dtype=object)"
      ]
     },
     "execution_count": 37,
     "metadata": {},
     "output_type": "execute_result"
    }
   ],
   "source": [
    "df_copy[\"segmento\"].unique()"
   ]
  }
 ],
 "metadata": {
  "kernelspec": {
   "display_name": "Python 3",
   "language": "python",
   "name": "python3"
  },
  "language_info": {
   "codemirror_mode": {
    "name": "ipython",
    "version": 3
   },
   "file_extension": ".py",
   "mimetype": "text/x-python",
   "name": "python",
   "nbconvert_exporter": "python",
   "pygments_lexer": "ipython3",
   "version": "3.12.1"
  }
 },
 "nbformat": 4,
 "nbformat_minor": 5
}
